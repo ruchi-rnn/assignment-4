{
  "nbformat": 4,
  "nbformat_minor": 0,
  "metadata": {
    "colab": {
      "provenance": []
    },
    "kernelspec": {
      "name": "python3",
      "display_name": "Python 3"
    },
    "language_info": {
      "name": "python"
    }
  },
  "cells": [
    {
      "cell_type": "code",
      "execution_count": 1,
      "metadata": {
        "id": "uoIcFwiUiT1T"
      },
      "outputs": [],
      "source": [
        "# 1.program to find the factorial of a number"
      ]
    },
    {
      "cell_type": "code",
      "source": [
        "def fact(n):\n",
        "  if n==0:\n",
        "    return 1\n",
        "  return n * fact(n-1)"
      ],
      "metadata": {
        "id": "fMWBBstcikEO"
      },
      "execution_count": 2,
      "outputs": []
    },
    {
      "cell_type": "code",
      "source": [
        "fact(5)"
      ],
      "metadata": {
        "colab": {
          "base_uri": "https://localhost:8080/"
        },
        "id": "M9Bw9hAHk8yD",
        "outputId": "14652ef8-949a-45bf-86a3-5472bbef5277"
      },
      "execution_count": 3,
      "outputs": [
        {
          "output_type": "execute_result",
          "data": {
            "text/plain": [
              "120"
            ]
          },
          "metadata": {},
          "execution_count": 3
        }
      ]
    },
    {
      "cell_type": "code",
      "source": [
        "#2. program to display the multiplication table"
      ],
      "metadata": {
        "id": "1nNCz7Wlk_y3"
      },
      "execution_count": null,
      "outputs": []
    },
    {
      "cell_type": "code",
      "source": [
        "n = int(input(\"Enter the number\"))\n",
        "for i in range(1,11):\n",
        "  print(n,\"x\",i,\"=\",n*i)\n",
        ""
      ],
      "metadata": {
        "colab": {
          "base_uri": "https://localhost:8080/"
        },
        "id": "yEP92bbMlOk5",
        "outputId": "3db2c6fc-bd4f-4af6-ab66-a729f7c59348"
      },
      "execution_count": 4,
      "outputs": [
        {
          "output_type": "stream",
          "name": "stdout",
          "text": [
            "Enter the number67\n",
            "67 x 1 = 67\n",
            "67 x 2 = 134\n",
            "67 x 3 = 201\n",
            "67 x 4 = 268\n",
            "67 x 5 = 335\n",
            "67 x 6 = 402\n",
            "67 x 7 = 469\n",
            "67 x 8 = 536\n",
            "67 x 9 = 603\n",
            "67 x 10 = 670\n"
          ]
        }
      ]
    },
    {
      "cell_type": "code",
      "source": [
        "#3.program to print the fibonacci number"
      ],
      "metadata": {
        "id": "MgWLdXDimsHa"
      },
      "execution_count": 5,
      "outputs": []
    },
    {
      "cell_type": "code",
      "source": [
        "def fib(n):\n",
        "  if  n==1 or n==2:\n",
        "     return 1\n",
        "  fib_n_1 = fib(n-1)\n",
        "  fib_n_2 = fib(n-2)\n",
        "\n",
        "  output = fib_n_1 + fib_n_2\n",
        "  return output"
      ],
      "metadata": {
        "id": "-pqE8Gqkm3ZR"
      },
      "execution_count": 8,
      "outputs": []
    },
    {
      "cell_type": "code",
      "source": [
        "fib(10)"
      ],
      "metadata": {
        "colab": {
          "base_uri": "https://localhost:8080/"
        },
        "id": "QMRhfYr5oqAx",
        "outputId": "faaaf68e-4a30-4e5a-f2ed-60dd0449f254"
      },
      "execution_count": 9,
      "outputs": [
        {
          "output_type": "execute_result",
          "data": {
            "text/plain": [
              "55"
            ]
          },
          "metadata": {},
          "execution_count": 9
        }
      ]
    },
    {
      "cell_type": "code",
      "source": [
        "#4. program to check armstrong number"
      ],
      "metadata": {
        "id": "zA-mYZiuqRzp"
      },
      "execution_count": 10,
      "outputs": []
    },
    {
      "cell_type": "code",
      "source": [
        "n= int(input(\"Enter the number:\"))\n",
        "def check_armstrong(num):\n",
        "  if num in range(1,10):\n",
        "    return True\n",
        "  order = len(str(num))\n",
        "  sum   = 0\n",
        "  original = num\n",
        "\n",
        "  while num>0:\n",
        "    digit = num % 10\n",
        "    sum += digit**order\n",
        "    num   = num//10\n",
        "  if sum == orginal:\n",
        "    return True\n",
        "    return False\n",
        "if check_armstrong(num):\n",
        "  print(\"number is armstrong\")\n",
        "else:\n",
        "  print(\"number is not armstrong\")\n",
        ""
      ],
      "metadata": {
        "colab": {
          "base_uri": "https://localhost:8080/",
          "height": 274
        },
        "id": "f5a1nVf6qvV4",
        "outputId": "ec089cba-5d94-4450-adce-e3e835189dd8"
      },
      "execution_count": 15,
      "outputs": [
        {
          "name": "stdout",
          "output_type": "stream",
          "text": [
            "Enter the number:8891\n"
          ]
        },
        {
          "output_type": "error",
          "ename": "NameError",
          "evalue": "ignored",
          "traceback": [
            "\u001b[0;31m---------------------------------------------------------------------------\u001b[0m",
            "\u001b[0;31mNameError\u001b[0m                                 Traceback (most recent call last)",
            "\u001b[0;32m<ipython-input-15-0611a2e784b4>\u001b[0m in \u001b[0;36m<cell line: 16>\u001b[0;34m()\u001b[0m\n\u001b[1;32m     14\u001b[0m     \u001b[0;32mreturn\u001b[0m \u001b[0;32mTrue\u001b[0m\u001b[0;34m\u001b[0m\u001b[0;34m\u001b[0m\u001b[0m\n\u001b[1;32m     15\u001b[0m     \u001b[0;32mreturn\u001b[0m \u001b[0;32mFalse\u001b[0m\u001b[0;34m\u001b[0m\u001b[0;34m\u001b[0m\u001b[0m\n\u001b[0;32m---> 16\u001b[0;31m \u001b[0;32mif\u001b[0m \u001b[0mcheck_armstrong\u001b[0m\u001b[0;34m(\u001b[0m\u001b[0mnum\u001b[0m\u001b[0;34m)\u001b[0m\u001b[0;34m:\u001b[0m\u001b[0;34m\u001b[0m\u001b[0;34m\u001b[0m\u001b[0m\n\u001b[0m\u001b[1;32m     17\u001b[0m   \u001b[0mprint\u001b[0m\u001b[0;34m(\u001b[0m\u001b[0;34m\"number is armstrong\"\u001b[0m\u001b[0;34m)\u001b[0m\u001b[0;34m\u001b[0m\u001b[0;34m\u001b[0m\u001b[0m\n\u001b[1;32m     18\u001b[0m \u001b[0;32melse\u001b[0m\u001b[0;34m:\u001b[0m\u001b[0;34m\u001b[0m\u001b[0;34m\u001b[0m\u001b[0m\n",
            "\u001b[0;31mNameError\u001b[0m: name 'num' is not defined"
          ]
        }
      ]
    },
    {
      "cell_type": "code",
      "source": [
        "#5. program to find armstrong number in an interval\n"
      ],
      "metadata": {
        "id": "7abt8Uyww4Yg"
      },
      "execution_count": 16,
      "outputs": []
    },
    {
      "cell_type": "code",
      "source": [],
      "metadata": {
        "id": "ksVsuKY1xL6M"
      },
      "execution_count": null,
      "outputs": []
    },
    {
      "cell_type": "code",
      "source": [
        "#6.program to find the sum of natural numbers\n"
      ],
      "metadata": {
        "id": "UnUgjw_OxS3C"
      },
      "execution_count": 17,
      "outputs": []
    },
    {
      "cell_type": "code",
      "source": [
        "def sum_n(n):\n",
        "  if n==0: # base case\n",
        "    return 0\n",
        "\n",
        "\n",
        "  smallout = sum_n(n-1) # induction hypothesis\n",
        "  output   = smallout + n # induction step\n",
        "  return output"
      ],
      "metadata": {
        "id": "E0Hd_xcUxeW7"
      },
      "execution_count": 20,
      "outputs": []
    },
    {
      "cell_type": "code",
      "source": [
        "sum_n(9)"
      ],
      "metadata": {
        "colab": {
          "base_uri": "https://localhost:8080/"
        },
        "id": "jCpwZ26pyLNY",
        "outputId": "531b70e4-299d-43b5-dbff-ad82d7ecc4d4"
      },
      "execution_count": 21,
      "outputs": [
        {
          "output_type": "execute_result",
          "data": {
            "text/plain": [
              "45"
            ]
          },
          "metadata": {},
          "execution_count": 21
        }
      ]
    },
    {
      "cell_type": "code",
      "source": [],
      "metadata": {
        "id": "w35GPBfVyQip"
      },
      "execution_count": null,
      "outputs": []
    }
  ]
}